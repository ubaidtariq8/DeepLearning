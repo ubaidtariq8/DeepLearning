{
 "cells": [
  {
   "cell_type": "code",
   "execution_count": 2,
   "metadata": {},
   "outputs": [],
   "source": [
    "import torch\n",
    "from torch import nn\n",
    "import matplotlib.pyplot as plt"
   ]
  },
  {
   "cell_type": "code",
   "execution_count": 3,
   "metadata": {},
   "outputs": [
    {
     "data": {
      "text/plain": [
       "'2.0.1+cu118'"
      ]
     },
     "execution_count": 3,
     "metadata": {},
     "output_type": "execute_result"
    }
   ],
   "source": [
    "torch.__version__"
   ]
  },
  {
   "cell_type": "code",
   "execution_count": 4,
   "metadata": {},
   "outputs": [
    {
     "data": {
      "text/plain": [
       "'cuda'"
      ]
     },
     "execution_count": 4,
     "metadata": {},
     "output_type": "execute_result"
    }
   ],
   "source": [
    "device = \"cuda\" if torch.cuda.is_available() else 'cpu'\n",
    "device"
   ]
  },
  {
   "cell_type": "markdown",
   "metadata": {},
   "source": [
    "# Task 1: Image Classification with CNNs"
   ]
  },
  {
   "cell_type": "code",
   "execution_count": 5,
   "metadata": {},
   "outputs": [],
   "source": [
    "class MyArchitecture(nn.Module):\n",
    "    def __init__(self, in_features, out_features, hidden_units):\n",
    "        super().__init__()\n",
    "        self.conv_layer = nn.Sequential(\n",
    "            nn.Conv2d(in_channels=in_features, out_channels=hidden_units, kernel_size=3, stride=1, padding=1),\n",
    "            nn.ReLU(),\n",
    "            nn.Conv2d(in_channels=hidden_units, out_channels=hidden_units, kernel_size=3, stride=1, padding=1),\n",
    "            nn.ReLU(),\n",
    "            nn.MaxPool2d(kernel_size=2)\n",
    "        )\n",
    "        self.classifier = nn.Sequential(\n",
    "            nn.Flatten(),\n",
    "            nn.Linear(in_features=50000, out_features=out_features)\n",
    "        )\n",
    "    def forward(self,x):\n",
    "        x = self.conv_layer(x)\n",
    "        return self.classifier(x)"
   ]
  },
  {
   "cell_type": "code",
   "execution_count": 14,
   "metadata": {},
   "outputs": [],
   "source": [
    "def preprocessing(img):\n",
    "    img = cv2.resize(img, (100, 100))\n",
    "\n",
    "    # Convert to tensor and normalize\n",
    "    img = transforms.ToTensor()(img)\n",
    "\n",
    "    return img"
   ]
  },
  {
   "cell_type": "markdown",
   "metadata": {},
   "source": [
    "# Loading the Data"
   ]
  },
  {
   "cell_type": "code",
   "execution_count": 16,
   "metadata": {},
   "outputs": [],
   "source": [
    "import os, cv2\n",
    "import numpy as np\n",
    "from torchvision import transforms\n",
    "from PIL import Image\n",
    "\n",
    "# Define breed-to-category mapping\n",
    "breed_to_category = {\n",
    "    \"abyssinian\": 0,\n",
    "    \"american shorthair\": 1,       \n",
    "    \"beagle\": 2,\n",
    "    \"boxer\": 3,\n",
    "    \"bulldog\":4,\n",
    "    \"chihuahua\":5,\n",
    "    \"corgi\":6,\n",
    "    \"dachshund\":7,\n",
    "    \"german shepherd\":8,\n",
    "    \"golden retriever\":9,\n",
    "    \"husky\":10,\n",
    "    \"labrador\":11,\n",
    "    \"maine coon\":12,\n",
    "    \"mumbai cat\":13,\n",
    "    \"persian cat\":14,\n",
    "    \"pomeranian\":15,\n",
    "    \"pug\":16,\n",
    "    \"ragdoll cat\":17,\n",
    "    \"rottwiler\":18,\n",
    "    \"shiba inu\":19,\n",
    "    \"siamese cat\":20,\n",
    "    \"sphynx\":21,\n",
    "    \"yorkshire terrier\":22\n",
    "}\n",
    "\n",
    "data_dir = \"E:/Data/Pet_Breeds\"\n",
    "\n",
    "labels=[]\n",
    "data = []\n",
    "for root, _, files in os.walk(data_dir):\n",
    "    # print(len(files))\n",
    "    for image_file in files:\n",
    "        breed_name = os.path.basename(root)\n",
    "        label = breed_to_category[breed_name]\n",
    "        image_path = os.path.join(root, image_file)\n",
    "        # print(image_path)\n",
    "        image_matrix = preprocessing(cv2.imread(image_path))\n",
    "        data.append(image_matrix)\n",
    "        labels.append(label)"
   ]
  },
  {
   "cell_type": "code",
   "execution_count": 22,
   "metadata": {},
   "outputs": [
    {
     "data": {
      "image/png": "[encoded data removed]",
      "text/plain": [
       "<Figure size 640x480 with 1 Axes>"
      ]
     },
     "metadata": {},
     "output_type": "display_data"
    }
   ],
   "source": [
    "\n",
    "# Display the preprocessed image\n",
    "plt.imshow(data[np.random.randint(1,1222)].numpy().transpose(1,2,0))\n",
    "plt.axis(\"off\")\n",
    "plt.show()"
   ]
  },
  {
   "cell_type": "markdown",
   "metadata": {},
   "source": [
    "# Creating Datasets for Training and Testing"
   ]
  },
  {
   "cell_type": "code",
   "execution_count": 23,
   "metadata": {},
   "outputs": [],
   "source": [
    "from sklearn.model_selection import train_test_split\n",
    "X_train, X_test, y_train, y_test = train_test_split(data, labels, test_size=0.2)"
   ]
  },
  {
   "cell_type": "code",
   "execution_count": 25,
   "metadata": {},
   "outputs": [],
   "source": [
    "import torch.optim as optim\n",
    "import torchvision.transforms as transforms\n",
    "from torch.utils.data import Dataset, DataLoader\n",
    "\n",
    "class CustomDataset(Dataset):\n",
    "    def __init__(self, data, labels, transform=None):\n",
    "        self.data = data\n",
    "        self.labels = labels\n",
    "        self.transform = transform\n",
    "\n",
    "    def __len__(self):\n",
    "        return len(self.data)\n",
    "\n",
    "    def __getitem__(self, idx):\n",
    "        img = self.data[idx]\n",
    "        label = self.labels[idx]\n",
    "        if self.transform:\n",
    "            img = self.transform(img)\n",
    "        return img, label\n",
    "\n",
    "\n",
    "# Create dataset and data loaders\n",
    "train_dataset = CustomDataset(data=X_train, labels=y_train, transform=None)\n",
    "train_loader = DataLoader(train_dataset, batch_size=64, shuffle=True)\n",
    "test_dataset = CustomDataset(data=X_test, labels=y_test, transform=None)\n",
    "test_loader = DataLoader(test_dataset, batch_size=64, shuffle=True)"
   ]
  },
  {
   "cell_type": "markdown",
   "metadata": {},
   "source": [
    "# Creating a function for training loop"
   ]
  },
  {
   "cell_type": "code",
   "execution_count": 27,
   "metadata": {},
   "outputs": [],
   "source": [
    "def train_model_loop(model, epochs, loss, optimizer, a, device, train_loader, test_loader):\n",
    "    '''model refers to the architecture class.\n",
    "    loss refers to the loss function\n",
    "    'a' refers to the accuracy function'''\n",
    "    model.to(device)\n",
    "    from tqdm import tqdm\n",
    "    for epoch in tqdm(range(epochs)):\n",
    "        train_loss = 0\n",
    "        for X_train,y_train in train_loader:\n",
    "            X_train, y_train = X_train.to(device), y_train.to(device)\n",
    "            model.train()\n",
    "            y_pred = model(X_train.float())\n",
    "            cost = loss(y_pred, y_train)\n",
    "            train_loss += cost.item()\n",
    "            optimizer.zero_grad()\n",
    "            cost.backward()\n",
    "            optimizer.step()\n",
    "            model.eval()    \n",
    "        with torch.inference_mode():\n",
    "            test_loss = 0\n",
    "            te_a=0\n",
    "            for X_test, y_test in test_loader:\n",
    "                X_test, y_test = X_test.to(device), y_test.to(device)\n",
    "                y_pred_test = model(X_test.float())\n",
    "                te_a += a(y_pred_test.argmax(dim=1),y_test)\n",
    "                test_loss += loss(y_pred_test, y_test)\n",
    "            y_pred_test = model(X_test.float())\n",
    "            # te_a = a(y_pred_test.argmax(dim=1),y_test)\n",
    "            # print('preds:',y_pred_test.shape,y_pred_test)\n",
    "            # tr_a = a(y_pred.argmax(dim=1),y_train)\n",
    "            if epoch%10==0:\n",
    "                print(f\"Train Loss: {train_loss/len(train_loader)} | Test Accuracy: {te_a/len(test_loader)} | Test Loss: {test_loss/len(test_loader)}\")"
   ]
  },
  {
   "cell_type": "markdown",
   "metadata": {},
   "source": [
    "# Testing 'MyArchitecture'"
   ]
  },
  {
   "cell_type": "code",
   "execution_count": 28,
   "metadata": {},
   "outputs": [
    {
     "name": "stderr",
     "output_type": "stream",
     "text": [
      "C:\\Users\\Ubaid\\AppData\\Local\\Packages\\PythonSoftwareFoundation.Python.3.10_qbz5n2kfra8p0\\LocalCache\\local-packages\\Python310\\site-packages\\tqdm\\auto.py:21: TqdmWarning: IProgress not found. Please update jupyter and ipywidgets. See https://ipywidgets.readthedocs.io/en/stable/user_install.html\n",
      "  from .autonotebook import tqdm as notebook_tqdm\n",
      "  1%|▏         | 1/80 [00:07<09:40,  7.35s/it]"
     ]
    },
    {
     "name": "stdout",
     "output_type": "stream",
     "text": [
      "Train Loss: 3.1332653201356226 | Test Accuracy: 0.05301816388964653 | Test Loss: 3.1229238510131836\n"
     ]
    },
    {
     "name": "stderr",
     "output_type": "stream",
     "text": [
      " 14%|█▍        | 11/80 [00:17<01:15,  1.10s/it]"
     ]
    },
    {
     "name": "stdout",
     "output_type": "stream",
     "text": [
      "Train Loss: 2.968660894705325 | Test Accuracy: 0.07331731170415878 | Test Loss: 3.04819393157959\n"
     ]
    },
    {
     "name": "stderr",
     "output_type": "stream",
     "text": [
      " 26%|██▋       | 21/80 [00:28<01:01,  1.04s/it]"
     ]
    },
    {
     "name": "stdout",
     "output_type": "stream",
     "text": [
      "Train Loss: 2.8189540152647057 | Test Accuracy: 0.10002671182155609 | Test Loss: 3.0160202980041504\n"
     ]
    },
    {
     "name": "stderr",
     "output_type": "stream",
     "text": [
      " 39%|███▉      | 31/80 [00:38<00:51,  1.05s/it]"
     ]
    },
    {
     "name": "stdout",
     "output_type": "stream",
     "text": [
      "Train Loss: 2.6942915673158607 | Test Accuracy: 0.11057692766189575 | Test Loss: 3.0315587520599365\n"
     ]
    },
    {
     "name": "stderr",
     "output_type": "stream",
     "text": [
      " 51%|█████▏    | 41/80 [00:49<00:40,  1.05s/it]"
     ]
    },
    {
     "name": "stdout",
     "output_type": "stream",
     "text": [
      "Train Loss: 2.5727428952041937 | Test Accuracy: 0.12526710331439972 | Test Loss: 2.9670708179473877\n"
     ]
    },
    {
     "name": "stderr",
     "output_type": "stream",
     "text": [
      " 64%|██████▍   | 51/80 [00:59<00:30,  1.04s/it]"
     ]
    },
    {
     "name": "stdout",
     "output_type": "stream",
     "text": [
      "Train Loss: 2.4365925059026603 | Test Accuracy: 0.12753739953041077 | Test Loss: 3.0394749641418457\n"
     ]
    },
    {
     "name": "stderr",
     "output_type": "stream",
     "text": [
      " 76%|███████▋  | 61/80 [01:10<00:20,  1.07s/it]"
     ]
    },
    {
     "name": "stdout",
     "output_type": "stream",
     "text": [
      "Train Loss: 2.2983371822201475 | Test Accuracy: 0.11418269574642181 | Test Loss: 3.0901193618774414\n"
     ]
    },
    {
     "name": "stderr",
     "output_type": "stream",
     "text": [
      " 89%|████████▉ | 71/80 [01:21<00:09,  1.10s/it]"
     ]
    },
    {
     "name": "stdout",
     "output_type": "stream",
     "text": [
      "Train Loss: 2.1803132684863344 | Test Accuracy: 0.12767094373703003 | Test Loss: 3.2929439544677734\n"
     ]
    },
    {
     "name": "stderr",
     "output_type": "stream",
     "text": [
      "100%|██████████| 80/80 [01:30<00:00,  1.14s/it]"
     ]
    },
    {
     "name": "stdout",
     "output_type": "stream",
     "text": [
      "Total time on cuda = 90.941 seconds\n"
     ]
    },
    {
     "name": "stderr",
     "output_type": "stream",
     "text": [
      "\n"
     ]
    }
   ],
   "source": [
    "device = 'cuda'\n",
    "from timeit import default_timer as timer\n",
    "import torchmetrics\n",
    "def print_train_time(start,end,device):\n",
    "    total_time = end - start\n",
    "    print(f\"Total time on {device} = {total_time:.3f} seconds\")\n",
    "model = MyArchitecture(3, 23, 20)\n",
    "a = torchmetrics.Accuracy(task='multiclass',num_classes=23).to(device)\n",
    "model.to(device)\n",
    "epochs = 80\n",
    "loss = nn.CrossEntropyLoss()\n",
    "optimizer = torch.optim.SGD(params=model.parameters(),lr=0.001)\n",
    "start = timer()\n",
    "train_model_loop(model,epochs,loss,optimizer,a,device,train_loader, test_loader)\n",
    "end = timer()\n",
    "print_train_time(start,end,device)        "
   ]
  },
  {
   "cell_type": "markdown",
   "metadata": {},
   "source": [
    "# Creating an evaluation function"
   ]
  },
  {
   "cell_type": "code",
   "execution_count": 29,
   "metadata": {},
   "outputs": [
    {
     "name": "stdout",
     "output_type": "stream",
     "text": [
      "Evaluation Results:\n",
      "Accuracy: 0.1351\n",
      "Precision: 0.1351\n",
      "Recall: 0.1351\n",
      "F1-Score: 0.1351\n"
     ]
    }
   ],
   "source": [
    "def evaluate_model(model, test_loader, device, num_classes):\n",
    "    model.to(device)\n",
    "    model.eval()\n",
    "\n",
    "    accuracy = torchmetrics.Accuracy(task='multiclass', num_classes=num_classes).to(device)\n",
    "    precision = torchmetrics.Precision(task='multiclass',num_classes=num_classes).to(device)\n",
    "    recall = torchmetrics.Recall(task='multiclass',num_classes=num_classes).to(device)\n",
    "    f1 = torchmetrics.F1Score(task='multiclass',num_classes=num_classes).to(device)\n",
    "\n",
    "    with torch.no_grad():\n",
    "        for batch in test_loader:\n",
    "            inputs, labels = batch\n",
    "            inputs, labels = inputs.to(device), labels.to(device)\n",
    "            outputs = model(inputs)\n",
    "            accuracy.update(outputs, labels)\n",
    "            precision.update(outputs, labels)\n",
    "            recall.update(outputs, labels)\n",
    "            f1.update(outputs, labels)\n",
    "\n",
    "    print(\"Evaluation Results:\")\n",
    "    print(f\"Accuracy: {accuracy.compute():.4f}\")\n",
    "    print(f\"Precision: {precision.compute():.4f}\")\n",
    "    print(f\"Recall: {recall.compute():.4f}\")\n",
    "    print(f\"F1-Score: {f1.compute():.4f}\")\n",
    "\n",
    "evaluate_model(model, test_loader,device,23)\n"
   ]
  },
  {
   "cell_type": "markdown",
   "metadata": {},
   "source": [
    "# ResNet50"
   ]
  },
  {
   "cell_type": "code",
   "execution_count": 30,
   "metadata": {},
   "outputs": [],
   "source": [
    "from torchvision.models import resnet50, ResNet50_Weights\n",
    "\n",
    "# Using pretrained weights:\n",
    "resnet = resnet50(weights=ResNet50_Weights.DEFAULT)"
   ]
  },
  {
   "cell_type": "code",
   "execution_count": 31,
   "metadata": {},
   "outputs": [],
   "source": [
    "resnet.fc = nn.Linear(resnet.fc.in_features, 23)"
   ]
  },
  {
   "cell_type": "code",
   "execution_count": 32,
   "metadata": {},
   "outputs": [],
   "source": [
    "resnet.to(device)\n",
    "for param in resnet.parameters():\n",
    "    param.requires_grad = False  # Freeze all layers\n",
    "\n",
    "# Set the classifier layer's parameters to require gradients\n",
    "resnet.fc.weight.requires_grad = True\n",
    "resnet.fc.bias.requires_grad = True\n"
   ]
  },
  {
   "cell_type": "code",
   "execution_count": 33,
   "metadata": {},
   "outputs": [
    {
     "name": "stderr",
     "output_type": "stream",
     "text": [
      "  0%|          | 1/200 [00:03<12:40,  3.82s/it]"
     ]
    },
    {
     "name": "stdout",
     "output_type": "stream",
     "text": [
      "Train Loss: 3.126567300485105 | Test Accuracy: 0.08547009527683258 | Test Loss: 3.109992265701294\n"
     ]
    },
    {
     "name": "stderr",
     "output_type": "stream",
     "text": [
      "  6%|▌         | 11/200 [00:36<10:41,  3.39s/it]"
     ]
    },
    {
     "name": "stdout",
     "output_type": "stream",
     "text": [
      "Train Loss: 2.8206617637556426 | Test Accuracy: 0.3259882628917694 | Test Loss: 2.8164541721343994\n"
     ]
    },
    {
     "name": "stderr",
     "output_type": "stream",
     "text": [
      " 10%|█         | 21/200 [01:10<09:58,  3.34s/it]"
     ]
    },
    {
     "name": "stdout",
     "output_type": "stream",
     "text": [
      "Train Loss: 2.5731711679575393 | Test Accuracy: 0.4332265257835388 | Test Loss: 2.5624589920043945\n"
     ]
    },
    {
     "name": "stderr",
     "output_type": "stream",
     "text": [
      " 16%|█▌        | 31/200 [01:43<09:08,  3.25s/it]"
     ]
    },
    {
     "name": "stdout",
     "output_type": "stream",
     "text": [
      "Train Loss: 2.367828923828748 | Test Accuracy: 0.4947916865348816 | Test Loss: 2.377539873123169\n"
     ]
    },
    {
     "name": "stderr",
     "output_type": "stream",
     "text": [
      " 20%|██        | 41/200 [02:15<08:27,  3.19s/it]"
     ]
    },
    {
     "name": "stdout",
     "output_type": "stream",
     "text": [
      "Train Loss: 2.2167037068581092 | Test Accuracy: 0.49692845344543457 | Test Loss: 2.264815092086792\n"
     ]
    },
    {
     "name": "stderr",
     "output_type": "stream",
     "text": [
      " 26%|██▌       | 51/200 [02:47<07:55,  3.19s/it]"
     ]
    },
    {
     "name": "stdout",
     "output_type": "stream",
     "text": [
      "Train Loss: 2.085151339063839 | Test Accuracy: 0.5100160837173462 | Test Loss: 2.1625208854675293\n"
     ]
    },
    {
     "name": "stderr",
     "output_type": "stream",
     "text": [
      " 30%|███       | 61/200 [03:19<07:29,  3.23s/it]"
     ]
    },
    {
     "name": "stdout",
     "output_type": "stream",
     "text": [
      "Train Loss: 1.984213940951289 | Test Accuracy: 0.5232372283935547 | Test Loss: 2.0648515224456787\n"
     ]
    },
    {
     "name": "stderr",
     "output_type": "stream",
     "text": [
      " 36%|███▌      | 71/200 [03:51<06:52,  3.20s/it]"
     ]
    },
    {
     "name": "stdout",
     "output_type": "stream",
     "text": [
      "Train Loss: 1.8842366495910956 | Test Accuracy: 0.5367254018783569 | Test Loss: 1.9715776443481445\n"
     ]
    },
    {
     "name": "stderr",
     "output_type": "stream",
     "text": [
      " 40%|████      | 81/200 [04:25<06:35,  3.32s/it]"
     ]
    },
    {
     "name": "stdout",
     "output_type": "stream",
     "text": [
      "Train Loss: 1.8117779128405513 | Test Accuracy: 0.5791934132575989 | Test Loss: 1.8635398149490356\n"
     ]
    },
    {
     "name": "stderr",
     "output_type": "stream",
     "text": [
      " 46%|████▌     | 91/200 [04:59<06:08,  3.38s/it]"
     ]
    },
    {
     "name": "stdout",
     "output_type": "stream",
     "text": [
      "Train Loss: 1.738077472667305 | Test Accuracy: 0.5717147588729858 | Test Loss: 1.8458813428878784\n"
     ]
    },
    {
     "name": "stderr",
     "output_type": "stream",
     "text": [
      " 50%|█████     | 101/200 [05:34<05:42,  3.46s/it]"
     ]
    },
    {
     "name": "stdout",
     "output_type": "stream",
     "text": [
      "Train Loss: 1.6779414415359497 | Test Accuracy: 0.5838675498962402 | Test Loss: 1.820279836654663\n"
     ]
    },
    {
     "name": "stderr",
     "output_type": "stream",
     "text": [
      " 56%|█████▌    | 111/200 [06:08<05:00,  3.37s/it]"
     ]
    },
    {
     "name": "stdout",
     "output_type": "stream",
     "text": [
      "Train Loss: 1.6334356020907967 | Test Accuracy: 0.5520833730697632 | Test Loss: 1.7994720935821533\n"
     ]
    },
    {
     "name": "stderr",
     "output_type": "stream",
     "text": [
      " 60%|██████    | 121/200 [06:42<04:27,  3.38s/it]"
     ]
    },
    {
     "name": "stdout",
     "output_type": "stream",
     "text": [
      "Train Loss: 1.5767910212886578 | Test Accuracy: 0.5849359035491943 | Test Loss: 1.7301480770111084\n"
     ]
    },
    {
     "name": "stderr",
     "output_type": "stream",
     "text": [
      " 66%|██████▌   | 131/200 [07:17<03:55,  3.41s/it]"
     ]
    },
    {
     "name": "stdout",
     "output_type": "stream",
     "text": [
      "Train Loss: 1.5427784019586992 | Test Accuracy: 0.5753205418586731 | Test Loss: 1.7096327543258667\n"
     ]
    },
    {
     "name": "stderr",
     "output_type": "stream",
     "text": [
      " 70%|███████   | 141/200 [07:52<03:27,  3.52s/it]"
     ]
    },
    {
     "name": "stdout",
     "output_type": "stream",
     "text": [
      "Train Loss: 1.5122213801559137 | Test Accuracy: 0.5946848392486572 | Test Loss: 1.676931619644165\n"
     ]
    },
    {
     "name": "stderr",
     "output_type": "stream",
     "text": [
      " 76%|███████▌  | 151/200 [08:27<02:50,  3.48s/it]"
     ]
    },
    {
     "name": "stdout",
     "output_type": "stream",
     "text": [
      "Train Loss: 1.473506642847645 | Test Accuracy: 0.5738515257835388 | Test Loss: 1.7074955701828003\n"
     ]
    },
    {
     "name": "stderr",
     "output_type": "stream",
     "text": [
      " 80%|████████  | 161/200 [09:01<02:12,  3.39s/it]"
     ]
    },
    {
     "name": "stdout",
     "output_type": "stream",
     "text": [
      "Train Loss: 1.4431240850565386 | Test Accuracy: 0.5848023295402527 | Test Loss: 1.6428067684173584\n"
     ]
    },
    {
     "name": "stderr",
     "output_type": "stream",
     "text": [
      " 86%|████████▌ | 171/200 [09:35<01:39,  3.42s/it]"
     ]
    },
    {
     "name": "stdout",
     "output_type": "stream",
     "text": [
      "Train Loss: 1.4005548662068892 | Test Accuracy: 0.5945512652397156 | Test Loss: 1.6043312549591064\n"
     ]
    },
    {
     "name": "stderr",
     "output_type": "stream",
     "text": [
      " 90%|█████████ | 181/200 [10:10<01:04,  3.42s/it]"
     ]
    },
    {
     "name": "stdout",
     "output_type": "stream",
     "text": [
      "Train Loss: 1.3736969208230778 | Test Accuracy: 0.5921474695205688 | Test Loss: 1.588774561882019\n"
     ]
    },
    {
     "name": "stderr",
     "output_type": "stream",
     "text": [
      " 96%|█████████▌| 191/200 [10:44<00:30,  3.40s/it]"
     ]
    },
    {
     "name": "stdout",
     "output_type": "stream",
     "text": [
      "Train Loss: 1.3477233088746363 | Test Accuracy: 0.6055021286010742 | Test Loss: 1.5529943704605103\n"
     ]
    },
    {
     "name": "stderr",
     "output_type": "stream",
     "text": [
      "100%|██████████| 200/200 [11:15<00:00,  3.38s/it]"
     ]
    },
    {
     "name": "stdout",
     "output_type": "stream",
     "text": [
      "Total time on cuda = 675.401 seconds\n"
     ]
    },
    {
     "name": "stderr",
     "output_type": "stream",
     "text": [
      "\n"
     ]
    }
   ],
   "source": [
    "device = 'cuda'\n",
    "from timeit import default_timer as timer\n",
    "import torchmetrics\n",
    "def print_train_time(start,end,device):\n",
    "    total_time = end - start\n",
    "    print(f\"Total time on {device} = {total_time:.3f} seconds\")\n",
    "a = torchmetrics.Accuracy(task='multiclass',num_classes=23).to(device)\n",
    "epochs = 200\n",
    "loss = nn.CrossEntropyLoss()\n",
    "optimizer = torch.optim.SGD(params=resnet.parameters(),lr=0.001)\n",
    "start = timer()\n",
    "train_model_loop(resnet,epochs,loss,optimizer,a,device,train_loader,test_loader)\n",
    "end = timer()\n",
    "print_train_time(start,end,device)        "
   ]
  },
  {
   "cell_type": "code",
   "execution_count": 34,
   "metadata": {},
   "outputs": [
    {
     "name": "stdout",
     "output_type": "stream",
     "text": [
      "Evaluation Results:\n",
      "Accuracy: 0.5985\n",
      "Precision: 0.5985\n",
      "Recall: 0.5985\n",
      "F1-Score: 0.5985\n"
     ]
    }
   ],
   "source": [
    "evaluate_model(resnet, test_loader,device,23)"
   ]
  },
  {
   "cell_type": "markdown",
   "metadata": {},
   "source": [
    "# AlexNet"
   ]
  },
  {
   "cell_type": "code",
   "execution_count": 35,
   "metadata": {},
   "outputs": [],
   "source": [
    "from torchvision.models import alexnet, AlexNet_Weights\n",
    "alex = alexnet(weights=AlexNet_Weights.DEFAULT)"
   ]
  },
  {
   "cell_type": "code",
   "execution_count": 36,
   "metadata": {},
   "outputs": [],
   "source": [
    "alex.to(device)\n",
    "alex.classifier[6] = nn.Linear(4096, 23)\n",
    "for param in alex.parameters():\n",
    "    param.requires_grad=False\n",
    "alex.classifier[6].weight.requires_grad = True\n",
    "alex.classifier[6].bias.requires_grad = True"
   ]
  },
  {
   "cell_type": "code",
   "execution_count": 38,
   "metadata": {},
   "outputs": [
    {
     "name": "stderr",
     "output_type": "stream",
     "text": [
      "  1%|          | 1/91 [00:00<01:27,  1.03it/s]"
     ]
    },
    {
     "name": "stdout",
     "output_type": "stream",
     "text": [
      "Train Loss: 3.300122835198227 | Test Accuracy: 0.08907586336135864 | Test Loss: 3.198244571685791\n"
     ]
    },
    {
     "name": "stderr",
     "output_type": "stream",
     "text": [
      " 12%|█▏        | 11/91 [00:08<00:58,  1.36it/s]"
     ]
    },
    {
     "name": "stdout",
     "output_type": "stream",
     "text": [
      "Train Loss: 3.03936497046023 | Test Accuracy: 0.12633547186851501 | Test Loss: 2.9919071197509766\n"
     ]
    },
    {
     "name": "stderr",
     "output_type": "stream",
     "text": [
      " 23%|██▎       | 21/91 [00:15<00:53,  1.30it/s]"
     ]
    },
    {
     "name": "stdout",
     "output_type": "stream",
     "text": [
      "Train Loss: 2.864484115522735 | Test Accuracy: 0.16586539149284363 | Test Loss: 2.843975782394409\n"
     ]
    },
    {
     "name": "stderr",
     "output_type": "stream",
     "text": [
      " 34%|███▍      | 31/91 [00:23<00:42,  1.40it/s]"
     ]
    },
    {
     "name": "stdout",
     "output_type": "stream",
     "text": [
      "Train Loss: 2.7335569663923613 | Test Accuracy: 0.22769765555858612 | Test Loss: 2.7205610275268555\n"
     ]
    },
    {
     "name": "stderr",
     "output_type": "stream",
     "text": [
      " 45%|████▌     | 41/91 [00:30<00:35,  1.42it/s]"
     ]
    },
    {
     "name": "stdout",
     "output_type": "stream",
     "text": [
      "Train Loss: 2.633685452597482 | Test Accuracy: 0.22849895060062408 | Test Loss: 2.6356990337371826\n"
     ]
    },
    {
     "name": "stderr",
     "output_type": "stream",
     "text": [
      " 56%|█████▌    | 51/91 [00:37<00:28,  1.42it/s]"
     ]
    },
    {
     "name": "stdout",
     "output_type": "stream",
     "text": [
      "Train Loss: 2.5482439508243484 | Test Accuracy: 0.2478632628917694 | Test Loss: 2.573233127593994\n"
     ]
    },
    {
     "name": "stderr",
     "output_type": "stream",
     "text": [
      " 67%|██████▋   | 61/91 [00:44<00:21,  1.38it/s]"
     ]
    },
    {
     "name": "stdout",
     "output_type": "stream",
     "text": [
      "Train Loss: 2.501109857948459 | Test Accuracy: 0.2843216061592102 | Test Loss: 2.508835554122925\n"
     ]
    },
    {
     "name": "stderr",
     "output_type": "stream",
     "text": [
      " 78%|███████▊  | 71/91 [00:52<00:16,  1.19it/s]"
     ]
    },
    {
     "name": "stdout",
     "output_type": "stream",
     "text": [
      "Train Loss: 2.4303752305556316 | Test Accuracy: 0.26442307233810425 | Test Loss: 2.5043742656707764\n"
     ]
    },
    {
     "name": "stderr",
     "output_type": "stream",
     "text": [
      " 89%|████████▉ | 81/91 [01:00<00:07,  1.35it/s]"
     ]
    },
    {
     "name": "stdout",
     "output_type": "stream",
     "text": [
      "Train Loss: 2.3779307092939104 | Test Accuracy: 0.2851228713989258 | Test Loss: 2.469655990600586\n"
     ]
    },
    {
     "name": "stderr",
     "output_type": "stream",
     "text": [
      "100%|██████████| 91/91 [01:07<00:00,  1.35it/s]"
     ]
    },
    {
     "name": "stdout",
     "output_type": "stream",
     "text": [
      "Train Loss: 2.3386781896863664 | Test Accuracy: 0.2972756326198578 | Test Loss: 2.4180195331573486\n",
      "Total time on cuda = 67.533 seconds\n"
     ]
    },
    {
     "name": "stderr",
     "output_type": "stream",
     "text": [
      "\n"
     ]
    }
   ],
   "source": [
    "a = torchmetrics.Accuracy(task='multiclass',num_classes=23).to(device)\n",
    "epochs = 91\n",
    "loss = nn.CrossEntropyLoss()\n",
    "optimizer = torch.optim.SGD(params=alex.parameters(),lr=0.00003)\n",
    "start = timer()\n",
    "train_model_loop(alex,epochs,loss,optimizer,a,device,train_loader,test_loader)\n",
    "end = timer()\n",
    "print_train_time(start,end,device)        "
   ]
  },
  {
   "cell_type": "code",
   "execution_count": 39,
   "metadata": {},
   "outputs": [
    {
     "name": "stdout",
     "output_type": "stream",
     "text": [
      "Evaluation Results:\n",
      "Accuracy: 0.2947\n",
      "Precision: 0.2947\n",
      "Recall: 0.2947\n",
      "F1-Score: 0.2947\n"
     ]
    }
   ],
   "source": [
    "evaluate_model(alex, test_loader, device, 23)"
   ]
  },
  {
   "cell_type": "markdown",
   "metadata": {},
   "source": [
    "# GoogleNet"
   ]
  },
  {
   "cell_type": "code",
   "execution_count": 40,
   "metadata": {},
   "outputs": [],
   "source": [
    "from torchvision.models import googlenet, GoogLeNet_Weights\n",
    "google = googlenet(weights = GoogLeNet_Weights.DEFAULT)\n",
    "google.to(device)\n",
    "google.fc = nn.Linear(1024, 23)\n",
    "for param in google.parameters():\n",
    "    param.requires_grad=False\n",
    "google.fc.weight.requires_grad = True\n",
    "google.fc.bias.requires_grad = True"
   ]
  },
  {
   "cell_type": "code",
   "execution_count": 41,
   "metadata": {},
   "outputs": [
    {
     "name": "stderr",
     "output_type": "stream",
     "text": [
      "  0%|          | 0/100 [00:00<?, ?it/s]"
     ]
    },
    {
     "name": "stderr",
     "output_type": "stream",
     "text": [
      "  1%|          | 1/100 [00:02<03:43,  2.26s/it]"
     ]
    },
    {
     "name": "stdout",
     "output_type": "stream",
     "text": [
      "Train Loss: 3.2228049064169126 | Test Accuracy: 0.042200855910778046 | Test Loss: 3.182875871658325\n"
     ]
    },
    {
     "name": "stderr",
     "output_type": "stream",
     "text": [
      " 11%|█         | 11/100 [00:19<02:29,  1.68s/it]"
     ]
    },
    {
     "name": "stdout",
     "output_type": "stream",
     "text": [
      "Train Loss: 2.9979087625231062 | Test Accuracy: 0.1059027835726738 | Test Loss: 3.016026020050049\n"
     ]
    },
    {
     "name": "stderr",
     "output_type": "stream",
     "text": [
      " 21%|██        | 21/100 [00:35<02:08,  1.63s/it]"
     ]
    },
    {
     "name": "stdout",
     "output_type": "stream",
     "text": [
      "Train Loss: 2.823573029771143 | Test Accuracy: 0.19871795177459717 | Test Loss: 2.8670873641967773\n"
     ]
    },
    {
     "name": "stderr",
     "output_type": "stream",
     "text": [
      " 31%|███       | 31/100 [00:53<02:03,  1.79s/it]"
     ]
    },
    {
     "name": "stdout",
     "output_type": "stream",
     "text": [
      "Train Loss: 2.684594777165627 | Test Accuracy: 0.2562767267227173 | Test Loss: 2.753852128982544\n"
     ]
    },
    {
     "name": "stderr",
     "output_type": "stream",
     "text": [
      " 41%|████      | 41/100 [01:11<01:45,  1.79s/it]"
     ]
    },
    {
     "name": "stdout",
     "output_type": "stream",
     "text": [
      "Train Loss: 2.5716530887448057 | Test Accuracy: 0.26575857400894165 | Test Loss: 2.6486523151397705\n"
     ]
    },
    {
     "name": "stderr",
     "output_type": "stream",
     "text": [
      " 51%|█████     | 51/100 [01:29<01:27,  1.79s/it]"
     ]
    },
    {
     "name": "stdout",
     "output_type": "stream",
     "text": [
      "Train Loss: 2.4623194908609194 | Test Accuracy: 0.2875267267227173 | Test Loss: 2.5696663856506348\n"
     ]
    },
    {
     "name": "stderr",
     "output_type": "stream",
     "text": [
      " 61%|██████    | 61/100 [01:47<01:07,  1.74s/it]"
     ]
    },
    {
     "name": "stdout",
     "output_type": "stream",
     "text": [
      "Train Loss: 2.3856592081031023 | Test Accuracy: 0.3238515257835388 | Test Loss: 2.49833345413208\n"
     ]
    },
    {
     "name": "stderr",
     "output_type": "stream",
     "text": [
      " 71%|███████   | 71/100 [02:07<00:56,  1.95s/it]"
     ]
    },
    {
     "name": "stdout",
     "output_type": "stream",
     "text": [
      "Train Loss: 2.3205726438639114 | Test Accuracy: 0.3103632628917694 | Test Loss: 2.4706485271453857\n"
     ]
    },
    {
     "name": "stderr",
     "output_type": "stream",
     "text": [
      " 81%|████████  | 81/100 [02:25<00:33,  1.78s/it]"
     ]
    },
    {
     "name": "stdout",
     "output_type": "stream",
     "text": [
      "Train Loss: 2.248581433782772 | Test Accuracy: 0.35162925720214844 | Test Loss: 2.4041430950164795\n"
     ]
    },
    {
     "name": "stderr",
     "output_type": "stream",
     "text": [
      " 91%|█████████ | 91/100 [02:42<00:14,  1.62s/it]"
     ]
    },
    {
     "name": "stdout",
     "output_type": "stream",
     "text": [
      "Train Loss: 2.2017778717741674 | Test Accuracy: 0.3552350401878357 | Test Loss: 2.3643298149108887\n"
     ]
    },
    {
     "name": "stderr",
     "output_type": "stream",
     "text": [
      "100%|██████████| 100/100 [02:58<00:00,  1.78s/it]"
     ]
    },
    {
     "name": "stdout",
     "output_type": "stream",
     "text": [
      "Total time on cuda = 178.241 seconds\n"
     ]
    },
    {
     "name": "stderr",
     "output_type": "stream",
     "text": [
      "\n"
     ]
    }
   ],
   "source": [
    "a = torchmetrics.Accuracy(task='multiclass',num_classes=23).to(device)\n",
    "epochs = 100\n",
    "loss = nn.CrossEntropyLoss()\n",
    "optimizer = torch.optim.SGD(params=google.parameters(),lr=0.001)\n",
    "start = timer()\n",
    "train_model_loop(google,epochs,loss,optimizer,a,device,train_loader,test_loader)\n",
    "end = timer()\n",
    "print_train_time(start,end,device)        "
   ]
  },
  {
   "cell_type": "code",
   "execution_count": 42,
   "metadata": {},
   "outputs": [
    {
     "name": "stdout",
     "output_type": "stream",
     "text": [
      "Evaluation Results:\n",
      "Accuracy: 0.3526\n",
      "Precision: 0.3526\n",
      "Recall: 0.3526\n",
      "F1-Score: 0.3526\n"
     ]
    }
   ],
   "source": [
    "evaluate_model(google,test_loader,device,23)"
   ]
  },
  {
   "cell_type": "markdown",
   "metadata": {},
   "source": [
    "# EfficientNet_B3"
   ]
  },
  {
   "cell_type": "code",
   "execution_count": 43,
   "metadata": {},
   "outputs": [],
   "source": [
    "from torchvision.models import efficientnet_b3, EfficientNet_B3_Weights\n",
    "efficient = efficientnet_b3(weights=EfficientNet_B3_Weights.DEFAULT)"
   ]
  },
  {
   "cell_type": "code",
   "execution_count": 44,
   "metadata": {},
   "outputs": [],
   "source": [
    "efficient.classifier[-1] = nn.Linear(1536, 23)\n",
    "efficient.to(device)\n",
    "for param in efficient.parameters():\n",
    "    param.requires_grad=False\n",
    "efficient.classifier[-1].weight.requires_grad = True\n",
    "efficient.classifier[-1].bias.requires_grad = True"
   ]
  },
  {
   "cell_type": "code",
   "execution_count": 45,
   "metadata": {},
   "outputs": [
    {
     "name": "stderr",
     "output_type": "stream",
     "text": [
      "  0%|          | 0/100 [00:00<?, ?it/s]"
     ]
    },
    {
     "name": "stderr",
     "output_type": "stream",
     "text": [
      "  1%|          | 1/100 [00:03<05:46,  3.50s/it]"
     ]
    },
    {
     "name": "stdout",
     "output_type": "stream",
     "text": [
      "Train Loss: 3.151552983692714 | Test Accuracy: 0.05061431601643562 | Test Loss: 3.139333963394165\n"
     ]
    },
    {
     "name": "stderr",
     "output_type": "stream",
     "text": [
      " 11%|█         | 11/100 [00:35<04:40,  3.15s/it]"
     ]
    },
    {
     "name": "stdout",
     "output_type": "stream",
     "text": [
      "Train Loss: 2.974749973842076 | Test Accuracy: 0.17454595863819122 | Test Loss: 3.0080480575561523\n"
     ]
    },
    {
     "name": "stderr",
     "output_type": "stream",
     "text": [
      " 21%|██        | 21/100 [01:07<04:15,  3.23s/it]"
     ]
    },
    {
     "name": "stdout",
     "output_type": "stream",
     "text": [
      "Train Loss: 2.8288621269926733 | Test Accuracy: 0.2554754316806793 | Test Loss: 2.891913890838623\n"
     ]
    },
    {
     "name": "stderr",
     "output_type": "stream",
     "text": [
      " 31%|███       | 31/100 [01:38<03:32,  3.08s/it]"
     ]
    },
    {
     "name": "stdout",
     "output_type": "stream",
     "text": [
      "Train Loss: 2.7124037547987334 | Test Accuracy: 0.3023504316806793 | Test Loss: 2.8115384578704834\n"
     ]
    },
    {
     "name": "stderr",
     "output_type": "stream",
     "text": [
      " 41%|████      | 41/100 [02:09<02:58,  3.03s/it]"
     ]
    },
    {
     "name": "stdout",
     "output_type": "stream",
     "text": [
      "Train Loss: 2.5950364677273496 | Test Accuracy: 0.30942845344543457 | Test Loss: 2.712773561477661\n"
     ]
    },
    {
     "name": "stderr",
     "output_type": "stream",
     "text": [
      " 51%|█████     | 51/100 [02:39<02:29,  3.04s/it]"
     ]
    },
    {
     "name": "stdout",
     "output_type": "stream",
     "text": [
      "Train Loss: 2.5108551492496414 | Test Accuracy: 0.31784191727638245 | Test Loss: 2.643467903137207\n"
     ]
    },
    {
     "name": "stderr",
     "output_type": "stream",
     "text": [
      " 61%|██████    | 61/100 [03:10<01:57,  3.02s/it]"
     ]
    },
    {
     "name": "stdout",
     "output_type": "stream",
     "text": [
      "Train Loss: 2.4306023558791803 | Test Accuracy: 0.3090277910232544 | Test Loss: 2.5955817699432373\n"
     ]
    },
    {
     "name": "stderr",
     "output_type": "stream",
     "text": [
      " 71%|███████   | 71/100 [03:41<01:27,  3.03s/it]"
     ]
    },
    {
     "name": "stdout",
     "output_type": "stream",
     "text": [
      "Train Loss: 2.350514222164543 | Test Accuracy: 0.33587074279785156 | Test Loss: 2.499332904815674\n"
     ]
    },
    {
     "name": "stderr",
     "output_type": "stream",
     "text": [
      " 81%|████████  | 81/100 [04:12<00:57,  3.04s/it]"
     ]
    },
    {
     "name": "stdout",
     "output_type": "stream",
     "text": [
      "Train Loss: 2.2971597934255796 | Test Accuracy: 0.3394765257835388 | Test Loss: 2.5351312160491943\n"
     ]
    },
    {
     "name": "stderr",
     "output_type": "stream",
     "text": [
      " 91%|█████████ | 91/100 [04:42<00:27,  3.06s/it]"
     ]
    },
    {
     "name": "stdout",
     "output_type": "stream",
     "text": [
      "Train Loss: 2.2586925273038903 | Test Accuracy: 0.3357371985912323 | Test Loss: 2.4960997104644775\n"
     ]
    },
    {
     "name": "stderr",
     "output_type": "stream",
     "text": [
      "100%|██████████| 100/100 [05:13<00:00,  3.13s/it]"
     ]
    },
    {
     "name": "stdout",
     "output_type": "stream",
     "text": [
      "Total time on cuda = 313.211 seconds\n"
     ]
    },
    {
     "name": "stderr",
     "output_type": "stream",
     "text": [
      "\n"
     ]
    }
   ],
   "source": [
    "a = torchmetrics.Accuracy(task='multiclass',num_classes=23).to(device)\n",
    "epochs = 100\n",
    "loss = nn.CrossEntropyLoss()\n",
    "optimizer = torch.optim.SGD(params=efficient.parameters(),lr=0.003)\n",
    "start = timer()\n",
    "train_model_loop(efficient,epochs,loss,optimizer,a,device,train_loader,test_loader)\n",
    "end = timer()\n",
    "print_train_time(start,end,device)        "
   ]
  },
  {
   "cell_type": "code",
   "execution_count": 46,
   "metadata": {},
   "outputs": [
    {
     "name": "stdout",
     "output_type": "stream",
     "text": [
      "Evaluation Results:\n",
      "Accuracy: 0.3423\n",
      "Precision: 0.3423\n",
      "Recall: 0.3423\n",
      "F1-Score: 0.3423\n"
     ]
    }
   ],
   "source": [
    "evaluate_model(efficient,test_loader,device,23)"
   ]
  },
  {
   "cell_type": "markdown",
   "metadata": {},
   "source": [
    "# Performance Statistics"
   ]
  },
  {
   "cell_type": "code",
   "execution_count": 48,
   "metadata": {},
   "outputs": [
    {
     "data": {
      "image/png": "[encoded data removed]",
      "text/plain": [
       "<Figure size 640x480 with 1 Axes>"
      ]
     },
     "metadata": {},
     "output_type": "display_data"
    }
   ],
   "source": [
    "performance = [0.13, 0.59, 0.2947, 0.3526, 0.3423]\n",
    "models = ['My own', 'ResNet', 'AlexNet', 'GoogleNet', 'EfficientNet_B3']\n",
    "\n",
    "plt.bar(models, performance)\n",
    "plt.ylabel('Performance')\n",
    "plt.title('Model Performance Comparison')\n",
    "plt.ylim(0, 1) \n",
    "plt.show()"
   ]
  },
  {
   "cell_type": "code",
   "execution_count": null,
   "metadata": {},
   "outputs": [],
   "source": []
  }
 ],
 "metadata": {
  "kernelspec": {
   "display_name": "Python 3",
   "language": "python",
   "name": "python3"
  },
  "language_info": {
   "codemirror_mode": {
    "name": "ipython",
    "version": 3
   },
   "file_extension": ".py",
   "mimetype": "text/x-python",
   "name": "python",
   "nbconvert_exporter": "python",
   "pygments_lexer": "ipython3",
   "version": "3.10.11"
  },
  "orig_nbformat": 4
 },
 "nbformat": 4,
 "nbformat_minor": 2
}
